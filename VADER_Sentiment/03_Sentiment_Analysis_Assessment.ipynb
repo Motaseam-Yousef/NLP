{
  "cells": [
    {
      "cell_type": "markdown",
      "metadata": {
        "id": "k_W-A_GtSQom"
      },
      "source": [
        "# Sentiment Analysis Assessment - Solution\n"
      ]
    },
    {
      "cell_type": "markdown",
      "metadata": {
        "id": "LCrLM6nySQou"
      },
      "source": [
        "## Task #1: Perform VADER Sentiment Analysis on your own review\n",
        "Write code that returns a set of SentimentIntensityAnalyzer polarity scores based on your own written review."
      ]
    },
    {
      "cell_type": "code",
      "execution_count": 40,
      "metadata": {
        "colab": {
          "base_uri": "https://localhost:8080/"
        },
        "id": "xUy2-HB0SQou",
        "outputId": "757e94e8-69c8-41db-d756-d8231e131336"
      },
      "outputs": [
        {
          "output_type": "stream",
          "name": "stderr",
          "text": [
            "[nltk_data] Downloading package vader_lexicon to /root/nltk_data...\n"
          ]
        }
      ],
      "source": [
        "# Import SentimentIntensityAnalyzer and create an sid object\n",
        "import nltk\n",
        "nltk.download('vader_lexicon')\n",
        "\n",
        "from nltk.sentiment.vader import SentimentIntensityAnalyzer\n",
        "\n",
        "sid = SentimentIntensityAnalyzer()"
      ]
    },
    {
      "cell_type": "code",
      "execution_count": 41,
      "metadata": {
        "id": "VZ_H3gFVSQov"
      },
      "outputs": [],
      "source": [
        "# Write a review as one continuous string (multiple sentences are ok)\n",
        "review = 'This a super excited movie!'"
      ]
    },
    {
      "cell_type": "code",
      "execution_count": 43,
      "metadata": {
        "id": "ti7NZQcmSQov"
      },
      "outputs": [],
      "source": [
        "# Obtain the sid scores for your review\n",
        "A=sid.polarity_scores(review)"
      ]
    },
    {
      "cell_type": "code",
      "source": [
        "A"
      ],
      "metadata": {
        "colab": {
          "base_uri": "https://localhost:8080/"
        },
        "id": "IIlxQbdf9t02",
        "outputId": "f5771117-f931-4424-fd57-2d807b77376a"
      },
      "execution_count": 44,
      "outputs": [
        {
          "output_type": "execute_result",
          "data": {
            "text/plain": [
              "{'neg': 0.0, 'neu': 0.233, 'pos': 0.767, 'compound': 0.7644}"
            ]
          },
          "metadata": {},
          "execution_count": 44
        }
      ]
    },
    {
      "cell_type": "code",
      "source": [
        "A['neu']"
      ],
      "metadata": {
        "colab": {
          "base_uri": "https://localhost:8080/"
        },
        "id": "zu-RfpQf9vEg",
        "outputId": "d82f3176-d27e-4146-eeb7-74c4c01847a7"
      },
      "execution_count": 46,
      "outputs": [
        {
          "output_type": "execute_result",
          "data": {
            "text/plain": [
              "0.233"
            ]
          },
          "metadata": {},
          "execution_count": 46
        }
      ]
    },
    {
      "cell_type": "markdown",
      "metadata": {
        "id": "mhpFKx_kSQow"
      },
      "source": [
        "### CHALLENGE: Write a function that takes in a review and returns a score of \"Positive\", \"Negative\" or \"Neutral\""
      ]
    },
    {
      "cell_type": "code",
      "execution_count": 55,
      "metadata": {
        "id": "JJWR9FseSQow"
      },
      "outputs": [],
      "source": [
        "def review_rating(string):\n",
        "  rev=sid.polarity_scores(string)\n",
        "  neg= rev['neg']\n",
        "  neu= rev['neu']\n",
        "  pos= rev['pos']\n",
        "  print(f'The Positive ratio is {pos:{20}} \\nThe Neutral ratio is  {neu:{20}} \\nThe Negative ratio is {neg:{20}}  ')\n",
        "    "
      ]
    },
    {
      "cell_type": "code",
      "execution_count": 56,
      "metadata": {
        "colab": {
          "base_uri": "https://localhost:8080/"
        },
        "id": "gf2Y_yLpSQow",
        "outputId": "5c065b64-610f-48eb-d918-8b5c3e8079bb"
      },
      "outputs": [
        {
          "output_type": "stream",
          "name": "stdout",
          "text": [
            "The Positive ratio is                0.767 \n",
            "The Neutral ratio is                 0.233 \n",
            "The Negative ratio is                  0.0  \n"
          ]
        }
      ],
      "source": [
        "# Test the function on your review above:\n",
        "review_rating(review)"
      ]
    },
    {
      "cell_type": "markdown",
      "metadata": {
        "id": "CPxlOmJjSQox"
      },
      "source": [
        "## Great job!"
      ]
    }
  ],
  "metadata": {
    "kernelspec": {
      "display_name": "Python 3",
      "language": "python",
      "name": "python3"
    },
    "language_info": {
      "codemirror_mode": {
        "name": "ipython",
        "version": 3
      },
      "file_extension": ".py",
      "mimetype": "text/x-python",
      "name": "python",
      "nbconvert_exporter": "python",
      "pygments_lexer": "ipython3",
      "version": "3.6.7"
    },
    "colab": {
      "provenance": []
    }
  },
  "nbformat": 4,
  "nbformat_minor": 0
}